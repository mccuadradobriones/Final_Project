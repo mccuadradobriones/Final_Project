{
 "cells": [
  {
   "cell_type": "code",
   "execution_count": 1,
   "metadata": {},
   "outputs": [],
   "source": [
    "import pandas as pd\n",
    "import zipfile\n",
    "import xlrd\n",
    "import re\n",
    "import os"
   ]
  },
  {
   "cell_type": "code",
   "execution_count": 2,
   "metadata": {},
   "outputs": [],
   "source": [
    "x=zipfile.ZipFile(f'..//Final_Project/Altadis/FY1415/Master_Cigarrillos_FY1415(Septiembre).zip')\n",
    "df=pd.read_excel(x.open('Master_Cigarrillos_FY1415(Septiembre).xlsx'))\n",
    "keep=[i for i in df.columns[0:28]]"
   ]
  },
  {
   "cell_type": "code",
   "execution_count": 9,
   "metadata": {},
   "outputs": [],
   "source": [
    "lista=[]\n",
    "data_cigarrillos=pd.DataFrame()\n",
    "def concat_files(x):\n",
    "    for dirpath, dirnames, filenames in os.walk(x):\n",
    "        for filename in filenames:\n",
    "            for x in filename:\n",
    "                for i in range(10,20):\n",
    "                    if filename.endswith(f\"Master_Cigarrillos_FY{i}{i+1}(Septiembre).zip\"):\n",
    "                        path=os.path.join(dirpath, filename)\n",
    "                        zipp=zipfile.ZipFile(path)\n",
    "                        print(os.path.exists(f'./Master_Cigarrillos_FY{i}{i+1}(Septiembre).xlsx'))\n",
    "                        if os.path.exists(f'./Master_Cigarrillos_FY{i}{i+1}(Septiembre).xlsx')==True:\n",
    "                            data=pd.read_excel(zipp.open(f\"Master_Cigarrillos_FY{i}{i+1}(Septiembre).xlsx\"))\n",
    "                            data = data.loc[:, df.columns.isin(keep)]\n",
    "                            data['Año']=f'FY{i}{i+1}'\n",
    "                        else:\n",
    "                            data=pd.read_excel(zipp.open(f\"Master_Cigarrillos_FY{i}{i+1}(Septiembre).xls\"))\n",
    "                            data = data.loc[:, df.columns.isin(keep)]\n",
    "                            data['Año']=f'FY{i}{i+1}'\n",
    "                            pass\n",
    "    lista.append(data)\n",
    "    data_cigarrillos=pd.concat(data_cigarrillos,data)\n",
    "    return  data_cigarrillos"
   ]
  },
  {
   "cell_type": "code",
   "execution_count": 10,
   "metadata": {},
   "outputs": [
    {
     "name": "stdout",
     "output_type": "stream",
     "text": [
      "False\n"
     ]
    },
    {
     "ename": "KeyError",
     "evalue": "\"There is no item named 'Master_Cigarrillos_FY1415(Septiembre).xls' in the archive\"",
     "output_type": "error",
     "traceback": [
      "\u001b[0;31m---------------------------------------------------------------------------\u001b[0m",
      "\u001b[0;31mKeyError\u001b[0m                                  Traceback (most recent call last)",
      "\u001b[0;32m<ipython-input-10-89c3607a1e0d>\u001b[0m in \u001b[0;36m<module>\u001b[0;34m\u001b[0m\n\u001b[0;32m----> 1\u001b[0;31m \u001b[0mprint\u001b[0m\u001b[0;34m(\u001b[0m\u001b[0mconcat_files\u001b[0m\u001b[0;34m(\u001b[0m\u001b[0;34m'/home/carmencuadrado/Ironhack/Final_Project/Altadis'\u001b[0m\u001b[0;34m)\u001b[0m\u001b[0;34m)\u001b[0m\u001b[0;34m\u001b[0m\u001b[0;34m\u001b[0m\u001b[0m\n\u001b[0m",
      "\u001b[0;32m<ipython-input-9-2c6ab4edb00e>\u001b[0m in \u001b[0;36mconcat_files\u001b[0;34m(x)\u001b[0m\n\u001b[1;32m     15\u001b[0m                             \u001b[0mdata\u001b[0m\u001b[0;34m[\u001b[0m\u001b[0;34m'Año'\u001b[0m\u001b[0;34m]\u001b[0m\u001b[0;34m=\u001b[0m\u001b[0;34mf'FY{i}{i+1}'\u001b[0m\u001b[0;34m\u001b[0m\u001b[0;34m\u001b[0m\u001b[0m\n\u001b[1;32m     16\u001b[0m                         \u001b[0;32melse\u001b[0m\u001b[0;34m:\u001b[0m\u001b[0;34m\u001b[0m\u001b[0;34m\u001b[0m\u001b[0m\n\u001b[0;32m---> 17\u001b[0;31m                             \u001b[0mdata\u001b[0m\u001b[0;34m=\u001b[0m\u001b[0mpd\u001b[0m\u001b[0;34m.\u001b[0m\u001b[0mread_excel\u001b[0m\u001b[0;34m(\u001b[0m\u001b[0mzipp\u001b[0m\u001b[0;34m.\u001b[0m\u001b[0mopen\u001b[0m\u001b[0;34m(\u001b[0m\u001b[0;34mf\"Master_Cigarrillos_FY{i}{i+1}(Septiembre).xls\"\u001b[0m\u001b[0;34m)\u001b[0m\u001b[0;34m)\u001b[0m\u001b[0;34m\u001b[0m\u001b[0;34m\u001b[0m\u001b[0m\n\u001b[0m\u001b[1;32m     18\u001b[0m                             \u001b[0mdata\u001b[0m \u001b[0;34m=\u001b[0m \u001b[0mdata\u001b[0m\u001b[0;34m.\u001b[0m\u001b[0mloc\u001b[0m\u001b[0;34m[\u001b[0m\u001b[0;34m:\u001b[0m\u001b[0;34m,\u001b[0m \u001b[0mdf\u001b[0m\u001b[0;34m.\u001b[0m\u001b[0mcolumns\u001b[0m\u001b[0;34m.\u001b[0m\u001b[0misin\u001b[0m\u001b[0;34m(\u001b[0m\u001b[0mkeep\u001b[0m\u001b[0;34m)\u001b[0m\u001b[0;34m]\u001b[0m\u001b[0;34m\u001b[0m\u001b[0;34m\u001b[0m\u001b[0m\n\u001b[1;32m     19\u001b[0m                             \u001b[0mdata\u001b[0m\u001b[0;34m[\u001b[0m\u001b[0;34m'Año'\u001b[0m\u001b[0;34m]\u001b[0m\u001b[0;34m=\u001b[0m\u001b[0;34mf'FY{i}{i+1}'\u001b[0m\u001b[0;34m\u001b[0m\u001b[0;34m\u001b[0m\u001b[0m\n",
      "\u001b[0;32m~/miniconda3/envs/Ironhack/lib/python3.7/zipfile.py\u001b[0m in \u001b[0;36mopen\u001b[0;34m(self, name, mode, pwd, force_zip64)\u001b[0m\n\u001b[1;32m   1465\u001b[0m         \u001b[0;32melse\u001b[0m\u001b[0;34m:\u001b[0m\u001b[0;34m\u001b[0m\u001b[0;34m\u001b[0m\u001b[0m\n\u001b[1;32m   1466\u001b[0m             \u001b[0;31m# Get info object for name\u001b[0m\u001b[0;34m\u001b[0m\u001b[0;34m\u001b[0m\u001b[0;34m\u001b[0m\u001b[0m\n\u001b[0;32m-> 1467\u001b[0;31m             \u001b[0mzinfo\u001b[0m \u001b[0;34m=\u001b[0m \u001b[0mself\u001b[0m\u001b[0;34m.\u001b[0m\u001b[0mgetinfo\u001b[0m\u001b[0;34m(\u001b[0m\u001b[0mname\u001b[0m\u001b[0;34m)\u001b[0m\u001b[0;34m\u001b[0m\u001b[0;34m\u001b[0m\u001b[0m\n\u001b[0m\u001b[1;32m   1468\u001b[0m \u001b[0;34m\u001b[0m\u001b[0m\n\u001b[1;32m   1469\u001b[0m         \u001b[0;32mif\u001b[0m \u001b[0mmode\u001b[0m \u001b[0;34m==\u001b[0m \u001b[0;34m'w'\u001b[0m\u001b[0;34m:\u001b[0m\u001b[0;34m\u001b[0m\u001b[0;34m\u001b[0m\u001b[0m\n",
      "\u001b[0;32m~/miniconda3/envs/Ironhack/lib/python3.7/zipfile.py\u001b[0m in \u001b[0;36mgetinfo\u001b[0;34m(self, name)\u001b[0m\n\u001b[1;32m   1393\u001b[0m         \u001b[0;32mif\u001b[0m \u001b[0minfo\u001b[0m \u001b[0;32mis\u001b[0m \u001b[0;32mNone\u001b[0m\u001b[0;34m:\u001b[0m\u001b[0;34m\u001b[0m\u001b[0;34m\u001b[0m\u001b[0m\n\u001b[1;32m   1394\u001b[0m             raise KeyError(\n\u001b[0;32m-> 1395\u001b[0;31m                 'There is no item named %r in the archive' % name)\n\u001b[0m\u001b[1;32m   1396\u001b[0m \u001b[0;34m\u001b[0m\u001b[0m\n\u001b[1;32m   1397\u001b[0m         \u001b[0;32mreturn\u001b[0m \u001b[0minfo\u001b[0m\u001b[0;34m\u001b[0m\u001b[0;34m\u001b[0m\u001b[0m\n",
      "\u001b[0;31mKeyError\u001b[0m: \"There is no item named 'Master_Cigarrillos_FY1415(Septiembre).xls' in the archive\""
     ]
    }
   ],
   "source": [
    "print(concat_files('/home/carmencuadrado/Ironhack/Final_Project/Altadis'))"
   ]
  },
  {
   "cell_type": "code",
   "execution_count": null,
   "metadata": {},
   "outputs": [],
   "source": [
    "data_picadura=pd.DataFrame()\n",
    "def concat_files_picadura(x):\n",
    "    for dirpath, dirnames, filenames in os.walk(x):\n",
    "        for filename in filenames:\n",
    "            for x in filename:\n",
    "                for i in range(10,20):\n",
    "                    if filename.endswith(f\"Master_Picadura_FY{i}{i+1}(Septiembre).zip\"):\n",
    "                        path=os.path.join(dirpath, filename)\n",
    "                        zipp=zipfile.ZipFile(path)\n",
    "                        if os.path.exists(f'./Master_Picadura_FY{i}{i+1}(Septiembre).xls')==True:\n",
    "                            data=pd.read_excel(zipp.open(f\"Master_Picadura_FY{i}{i+1}(Septiembre).xls\"))\n",
    "                            data = data.loc[:, df.columns.isin(keep)]\n",
    "                            data['Año']=f'FY{i}{i+1}'\n",
    "                        else:\n",
    "                            data=pd.read_excel(zipp.open(f\"Master_Picadura_FY{i}{i+1}(Septiembre).xlsx\"))\n",
    "                            data = data.loc[:, df.columns.isin(keep)]\n",
    "                            data['Año']=f'FY{i}{i+1}'\n",
    "    lista.append(data)\n",
    "    data_picadura=pd.concat(data_picadura,data)\n",
    "    return  data_picadura "
   ]
  },
  {
   "cell_type": "code",
   "execution_count": null,
   "metadata": {},
   "outputs": [],
   "source": [
    "data_cigarros=pd.DataFrame()\n",
    "def concat_files_picadura(x):\n",
    "    for dirpath, dirnames, filenames in os.walk(x):\n",
    "        for filename in filenames:\n",
    "            for x in filename:\n",
    "                for i in range(10,20):\n",
    "                    if filename.endswith(f\"Master_Cigarros_FY{i}{i+1}(Septiembre).zip\"):\n",
    "                        path=os.path.join(dirpath, filename)\n",
    "                        zipp=zipfile.ZipFile(path)\n",
    "                        if os.path.exists(f'./Master_Cigarros_FY{i}{i+1}(Septiembre).xls')==True:\n",
    "                            data=pd.read_excel(zipp.open(f\"Master_Cigarros_FY{i}{i+1}(Septiembre).xls\"))\n",
    "                            data = data.loc[:, df.columns.isin(keep)]\n",
    "                            data['Año']=f'FY{i}{i+1}'\n",
    "                        else:\n",
    "                            data=pd.read_excel(zipp.open(f\"Master_Cigarros_FY{i}{i+1}(Septiembre).xlsx\"))\n",
    "                            data = data.loc[:, df.columns.isin(keep)]\n",
    "                            data['Año']=f'FY{i}{i+1}'\n",
    "    lista.append(data)\n",
    "    data_cigarros=pd.concat(data_cigarros,data)\n",
    "    return  data_cigarros"
   ]
  },
  {
   "cell_type": "code",
   "execution_count": null,
   "metadata": {},
   "outputs": [],
   "source": [
    "data_cigarrillos"
   ]
  },
  {
   "cell_type": "code",
   "execution_count": null,
   "metadata": {},
   "outputs": [],
   "source": [
    "data_picadura"
   ]
  },
  {
   "cell_type": "code",
   "execution_count": null,
   "metadata": {},
   "outputs": [],
   "source": [
    "data_cigarros"
   ]
  }
 ],
 "metadata": {
  "kernelspec": {
   "display_name": "Python 3",
   "language": "python",
   "name": "python3"
  },
  "language_info": {
   "codemirror_mode": {
    "name": "ipython",
    "version": 3
   },
   "file_extension": ".py",
   "mimetype": "text/x-python",
   "name": "python",
   "nbconvert_exporter": "python",
   "pygments_lexer": "ipython3",
   "version": "3.7.3"
  }
 },
 "nbformat": 4,
 "nbformat_minor": 4
}
