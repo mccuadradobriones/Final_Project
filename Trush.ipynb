{
 "cells": [
  {
   "cell_type": "markdown",
   "metadata": {},
   "source": [
    "##### Checking which tables to concat"
   ]
  },
  {
   "cell_type": "code",
   "execution_count": null,
   "metadata": {},
   "outputs": [],
   "source": [
    "url = 'https://servicios.ine.es/wstempus/js/ES/TABLAS_OPERACION/22?page=1'\n",
    "respuesta = requests.get(url)\n",
    "datos = respuesta.json()\n",
    "data=pd.DataFrame.from_records(datos)\n",
    "x=data[data['Nombre'].str.contains('sexo')]['Id']\n",
    "y=x.values.tolist()"
   ]
  },
  {
   "cell_type": "code",
   "execution_count": null,
   "metadata": {},
   "outputs": [],
   "source": [
    "datillos=pd.DataFrame()\n",
    "lista=[]"
   ]
  },
  {
   "cell_type": "code",
   "execution_count": null,
   "metadata": {},
   "outputs": [],
   "source": [
    "for i in y:  \n",
    "    url = f'https://servicios.ine.es/wstempus/js/ES/DATOS_TABLA/{i}?nult=6'\n",
    "    respuesta = requests.get(url)\n",
    "    datos = respuesta.json()\n",
    "    data=pd.DataFrame.from_records(datos)\n",
    "    lista.append(data)"
   ]
  },
  {
   "cell_type": "code",
   "execution_count": null,
   "metadata": {},
   "outputs": [],
   "source": [
    "total=pd.concat(lista)"
   ]
  },
  {
   "cell_type": "code",
   "execution_count": null,
   "metadata": {},
   "outputs": [],
   "source": [
    "total.head()"
   ]
  },
  {
   "cell_type": "code",
   "execution_count": null,
   "metadata": {},
   "outputs": [],
   "source": [
    "total['Fecha']=total['Data'].apply(lambda x: [next(iter(d.values())) for d in x])\n",
    "total['Año']=total['Data'].apply(lambda x:[d.get('Anyo') for d in x])\n",
    "total['Población']=total['Data'].apply(lambda x:[d.get('Valor') for d in x])"
   ]
  },
  {
   "cell_type": "code",
   "execution_count": null,
   "metadata": {},
   "outputs": [],
   "source": [
    "data = data.loc[:, data.columns.isin(keep)]"
   ]
  }
 ],
 "metadata": {
  "kernelspec": {
   "display_name": "Python [conda env:Ironhack] *",
   "language": "python",
   "name": "conda-env-Ironhack-py"
  },
  "language_info": {
   "codemirror_mode": {
    "name": "ipython",
    "version": 3
   },
   "file_extension": ".py",
   "mimetype": "text/x-python",
   "name": "python",
   "nbconvert_exporter": "python",
   "pygments_lexer": "ipython3",
   "version": "3.7.3"
  }
 },
 "nbformat": 4,
 "nbformat_minor": 4
}
